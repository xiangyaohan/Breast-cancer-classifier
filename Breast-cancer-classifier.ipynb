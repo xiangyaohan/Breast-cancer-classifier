{
 "cells": [
  {
   "cell_type": "code",
   "execution_count": 1,
   "metadata": {},
   "outputs": [],
   "source": [
    "import numpy as np\n",
    "import pandas as pd \n",
    "#数据处理基础数据库\n",
    "\n",
    "from tensorflow import keras\n",
    "from tensorflow.keras.utils import to_categorical\n",
    "from tensorflow.keras.models import Sequential\n",
    "from tensorflow.keras.layers import Conv2D,MaxPool2D,Dropout,Dense, Flatten\n",
    "#用来构建卷积神经网络的库"
   ]
  },
  {
   "cell_type": "code",
   "execution_count": 2,
   "metadata": {},
   "outputs": [
    {
     "output_type": "execute_result",
     "data": {
      "text/plain": [
       "['train_images',\n",
       " 'val_images',\n",
       " 'test_images',\n",
       " 'train_labels',\n",
       " 'val_labels',\n",
       " 'test_labels']"
      ]
     },
     "metadata": {},
     "execution_count": 2
    }
   ],
   "source": [
    "data = np.load('breastmnist.npz')\n",
    "data.files\n",
    "#导入数据"
   ]
  },
  {
   "cell_type": "code",
   "execution_count": 3,
   "metadata": {},
   "outputs": [],
   "source": [
    "train_x = data['train_images']/255\n",
    "train_y = data['train_labels']\n",
    "val_x = data['val_images']/255\n",
    "val_y = data['val_labels']\n",
    "test_x = data['test_images']/255\n",
    "test_y = data['test_labels']"
   ]
  },
  {
   "cell_type": "code",
   "execution_count": 4,
   "metadata": {},
   "outputs": [],
   "source": [
    "train_x = train_x.reshape(train_x.shape[0], 28, 28, 1)\n",
    "val_x = val_x.reshape(val_x.shape[0], 28, 28, 1)\n",
    "test_x = test_x.reshape(test_x.shape[0], 28, 28, 1)"
   ]
  },
  {
   "cell_type": "code",
   "execution_count": 6,
   "metadata": {},
   "outputs": [],
   "source": [
    "model = Sequential()\n",
    "model.add(Dense(1000, activation='relu',input_shape=(28,28,1)))\n",
    "model.add(Dense(256, activation='relu'))\n",
    "model.add(Dense(128, activation='relu'))\n",
    "model.add(Dense(64, activation='relu'))\n",
    "model.add(Dense(32, activation='relu'))\n",
    "model.add(Flatten())\n",
    "model.add(Dense(1, activation='sigmoid'))\n",
    "\n",
    "model.compile(optimizer='adam',\n",
    "              loss='binary_crossentropy',\n",
    "              metrics=['accuracy'])"
   ]
  },
  {
   "cell_type": "code",
   "execution_count": 7,
   "metadata": {},
   "outputs": [
    {
     "output_type": "stream",
     "name": "stdout",
     "text": [
      "Epoch 1/10\n",
      "18/18 [==============================] - 6s 271ms/step - loss: 0.6009 - accuracy: 0.7161 - val_loss: 0.6134 - val_accuracy: 0.7308\n",
      "Epoch 2/10\n",
      "18/18 [==============================] - 5s 281ms/step - loss: 0.5891 - accuracy: 0.7308 - val_loss: 0.5911 - val_accuracy: 0.7308\n",
      "Epoch 3/10\n",
      "18/18 [==============================] - 5s 289ms/step - loss: 0.5497 - accuracy: 0.7308 - val_loss: 0.5339 - val_accuracy: 0.7564\n",
      "Epoch 4/10\n",
      "18/18 [==============================] - 4s 248ms/step - loss: 0.5162 - accuracy: 0.7564 - val_loss: 0.5078 - val_accuracy: 0.7436\n",
      "Epoch 5/10\n",
      "18/18 [==============================] - 4s 230ms/step - loss: 0.5015 - accuracy: 0.7491 - val_loss: 0.4733 - val_accuracy: 0.8077\n",
      "Epoch 6/10\n",
      "18/18 [==============================] - 4s 229ms/step - loss: 0.5001 - accuracy: 0.7729 - val_loss: 0.4803 - val_accuracy: 0.8333\n",
      "Epoch 7/10\n",
      "18/18 [==============================] - 4s 230ms/step - loss: 0.4708 - accuracy: 0.7894 - val_loss: 0.4539 - val_accuracy: 0.8590\n",
      "Epoch 8/10\n",
      "18/18 [==============================] - 4s 230ms/step - loss: 0.4795 - accuracy: 0.7894 - val_loss: 0.4377 - val_accuracy: 0.8590\n",
      "Epoch 9/10\n",
      "18/18 [==============================] - 4s 231ms/step - loss: 0.4566 - accuracy: 0.7930 - val_loss: 0.4295 - val_accuracy: 0.8590\n",
      "Epoch 10/10\n",
      "18/18 [==============================] - 4s 233ms/step - loss: 0.4436 - accuracy: 0.7894 - val_loss: 0.4222 - val_accuracy: 0.8590\n"
     ]
    },
    {
     "output_type": "execute_result",
     "data": {
      "text/plain": [
       "<tensorflow.python.keras.callbacks.History at 0x1d847c67a00>"
      ]
     },
     "metadata": {},
     "execution_count": 7
    }
   ],
   "source": [
    "model.fit(x=train_x,y=train_y,epochs= 10,validation_data= (val_x,val_y))"
   ]
  },
  {
   "cell_type": "code",
   "execution_count": 8,
   "metadata": {},
   "outputs": [
    {
     "output_type": "stream",
     "name": "stdout",
     "text": [
      "5/5 [==============================] - 1s 110ms/step - loss: 0.4475 - accuracy: 0.8397\n",
      "\n",
      "Test accuracy: 0.8397436141967773\n"
     ]
    }
   ],
   "source": [
    "test_loss,test_acc = model.evaluate(test_x,  test_y)\n",
    "print('\\nTest accuracy:', test_acc)"
   ]
  },
  {
   "cell_type": "code",
   "execution_count": null,
   "metadata": {},
   "outputs": [],
   "source": []
  }
 ],
 "metadata": {
  "kernelspec": {
   "name": "python388jvsc74a57bd007efdcd4b820c98a756949507a4d29d7862823915ec7477944641bea022f4f62",
   "display_name": "Python 3.8.8 64-bit ('base': conda)"
  },
  "language_info": {
   "codemirror_mode": {
    "name": "ipython",
    "version": 3
   },
   "file_extension": ".py",
   "mimetype": "text/x-python",
   "name": "python",
   "nbconvert_exporter": "python",
   "pygments_lexer": "ipython3",
   "version": "3.8.8"
  }
 },
 "nbformat": 4,
 "nbformat_minor": 2
}